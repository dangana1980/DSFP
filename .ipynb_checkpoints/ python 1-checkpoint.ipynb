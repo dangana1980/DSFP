{
 "cells": [
  {
   "cell_type": "code",
   "execution_count": 1,
   "id": "5db97b07",
   "metadata": {},
   "outputs": [
    {
     "name": "stdout",
     "output_type": "stream",
     "text": [
      "i love python\n"
     ]
    }
   ],
   "source": [
    "print(\"i love python\")"
   ]
  },
  {
   "cell_type": "code",
   "execution_count": 2,
   "id": "ae43cfce",
   "metadata": {},
   "outputs": [
    {
     "data": {
      "text/plain": [
       "4"
      ]
     },
     "execution_count": 2,
     "metadata": {},
     "output_type": "execute_result"
    }
   ],
   "source": [
    "age = 23\n",
    "\n",
    "hieght = 23.8\n",
    "\n",
    "name = \"musa bada\"\n"
   ]
  },
  {
   "cell_type": "code",
   "execution_count": 4,
   "id": "a1dcf204",
   "metadata": {},
   "outputs": [
    {
     "ename": "SyntaxError",
     "evalue": "unterminated string literal (detected at line 6) (3665092964.py, line 6)",
     "output_type": "error",
     "traceback": [
      "\u001b[1;36m  Cell \u001b[1;32mIn[4], line 6\u001b[1;36m\u001b[0m\n\u001b[1;33m    the average of: {}, {}, {} is: {}\".format(avg)\u001b[0m\n\u001b[1;37m                                     ^\u001b[0m\n\u001b[1;31mSyntaxError\u001b[0m\u001b[1;31m:\u001b[0m unterminated string literal (detected at line 6)\n"
     ]
    }
   ],
   "source": [
    "num1 = 2\n",
    "num2 = 5\n",
    "num3 = 6\n",
    "avg = (num1 + num2 + num3) / 3\n",
    "\n",
    "the average of: {}, {}, {} is: {}\".format(avg)"
   ]
  },
  {
   "cell_type": "code",
   "execution_count": 5,
   "id": "3d45312d",
   "metadata": {},
   "outputs": [],
   "source": [
    "x = 3 + 2 * 2\n",
    "\n",
    "\"the value of x is \" + str(x)\n",
    "\"the value of x is \" {}\".format\n"
   ]
  },
  {
   "cell_type": "code",
   "execution_count": 6,
   "id": "22774b51",
   "metadata": {},
   "outputs": [
    {
     "data": {
      "text/plain": [
       "23"
      ]
     },
     "execution_count": 6,
     "metadata": {},
     "output_type": "execute_result"
    }
   ],
   "source": [
    "ages = [23, 45, 67, 87, 12, 34]\n",
    "\n",
    "ages[0]\n",
    "ages[0:3]\n",
    "ages[::3]"
   ]
  },
  {
   "cell_type": "code",
   "execution_count": 10,
   "id": "2cfd7257",
   "metadata": {},
   "outputs": [
    {
     "data": {
      "text/plain": [
       "[2, 3, 11]"
      ]
     },
     "execution_count": 10,
     "metadata": {},
     "output_type": "execute_result"
    }
   ],
   "source": [
    "ages = [2, 4, 3, 6, 3, 7, 6, 9, 11]\n",
    "\n",
    "ages[2:8]\n",
    "\n",
    "\n"
   ]
  },
  {
   "cell_type": "code",
   "execution_count": 11,
   "id": "cb1841e2",
   "metadata": {},
   "outputs": [
    {
     "data": {
      "text/plain": [
       "[2, 3, 11]"
      ]
     },
     "execution_count": 11,
     "metadata": {},
     "output_type": "execute_result"
    }
   ],
   "source": [
    "ages[::4]"
   ]
  },
  {
   "cell_type": "code",
   "execution_count": 15,
   "id": "86ea64fd",
   "metadata": {
    "scrolled": true
   },
   "outputs": [
    {
     "name": "stdout",
     "output_type": "stream",
     "text": [
      "1\n",
      "3\n",
      "6\n",
      "10\n",
      "15\n",
      "20\n",
      "26\n",
      "33\n",
      "41\n",
      "50\n"
     ]
    }
   ],
   "source": [
    "ages=[1,2,3,4,5,5,6,7,8,9]\n",
    "\n",
    "sum_of_ages = 0\n",
    "for age in ages:\n",
    "    sum_of_ages = sum_of_ages + age\n",
    "        \n",
    "    print(sum_of_ages)\n"
   ]
  },
  {
   "cell_type": "code",
   "execution_count": 20,
   "id": "621d82a8",
   "metadata": {},
   "outputs": [
    {
     "name": "stdout",
     "output_type": "stream",
     "text": [
      "0\n",
      "2\n",
      "4\n",
      "6\n",
      "8\n",
      "10\n",
      "12\n",
      "14\n"
     ]
    }
   ],
   "source": [
    "for number in range (16):\n",
    "    if number%2 == 0:\n",
    "        print(number)\n",
    "        \n"
   ]
  },
  {
   "cell_type": "code",
   "execution_count": null,
   "id": "0c71cda2",
   "metadata": {},
   "outputs": [],
   "source": []
  }
 ],
 "metadata": {
  "kernelspec": {
   "display_name": "Python 3 (ipykernel)",
   "language": "python",
   "name": "python3"
  },
  "language_info": {
   "codemirror_mode": {
    "name": "ipython",
    "version": 3
   },
   "file_extension": ".py",
   "mimetype": "text/x-python",
   "name": "python",
   "nbconvert_exporter": "python",
   "pygments_lexer": "ipython3",
   "version": "3.11.5"
  }
 },
 "nbformat": 4,
 "nbformat_minor": 5
}
